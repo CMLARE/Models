{
 "cells": [
  {
   "cell_type": "code",
   "execution_count": 1,
   "metadata": {},
   "outputs": [],
   "source": [
    "import pandas as pd\n"
   ]
  },
  {
   "cell_type": "code",
   "execution_count": 2,
   "metadata": {},
   "outputs": [],
   "source": [
    "data_root = \"/home/cmlare/Data/RF Data/Processed/\""
   ]
  },
  {
   "cell_type": "code",
   "execution_count": 3,
   "metadata": {},
   "outputs": [
    {
     "name": "stdout",
     "output_type": "stream",
     "text": [
      "Loading Data..\n"
     ]
    }
   ],
   "source": [
    "print(\"Loading Data..\")"
   ]
  },
  {
   "cell_type": "code",
   "execution_count": 4,
   "metadata": {},
   "outputs": [],
   "source": [
    "rainfall_classified = pd.read_csv(data_root+\"2018-06-01 to 2018-06-10_integrated_classified.csv\")"
   ]
  },
  {
   "cell_type": "code",
   "execution_count": 5,
   "metadata": {},
   "outputs": [],
   "source": [
    "rainfall_classified_near = rainfall_classified.loc[lambda x: x[\"distance\"] < 5]"
   ]
  },
  {
   "cell_type": "code",
   "execution_count": 6,
   "metadata": {},
   "outputs": [
    {
     "name": "stdout",
     "output_type": "stream",
     "text": [
      "Loading of data finished.\n"
     ]
    }
   ],
   "source": [
    "specific_data_frame = rainfall_classified_near\n",
    "print(\"Loading of data finished.\")"
   ]
  },
  {
   "cell_type": "code",
   "execution_count": 7,
   "metadata": {},
   "outputs": [
    {
     "name": "stderr",
     "output_type": "stream",
     "text": [
      "/usr/lib/python3/dist-packages/ipykernel_launcher.py:1: SettingWithCopyWarning: \n",
      "A value is trying to be set on a copy of a slice from a DataFrame.\n",
      "Try using .loc[row_indexer,col_indexer] = value instead\n",
      "\n",
      "See the caveats in the documentation: http://pandas.pydata.org/pandas-docs/stable/indexing.html#indexing-view-versus-copy\n",
      "  \"\"\"Entry point for launching an IPython kernel.\n"
     ]
    }
   ],
   "source": [
    "specific_data_frame[\"Baseline_ATTN\"] = specific_data_frame[\"Baseline\"].sub(specific_data_frame[\"RSL_MIN\"])"
   ]
  },
  {
   "cell_type": "code",
   "execution_count": 10,
   "metadata": {},
   "outputs": [
    {
     "name": "stdout",
     "output_type": "stream",
     "text": [
      "                      count          mean           std           min  \\\n",
      "ID                 162414.0  1.325517e+03  7.095621e+02  7.000000e+00   \n",
      "FrequencyBand      162414.0  2.343807e+01  2.846062e+00  1.800000e+01   \n",
      "PAttAvg            162414.0  3.255341e-02  2.965558e-02 -8.880887e-07   \n",
      "PRAvg              162414.0  5.270731e-07  5.212458e-07  8.128305e-12   \n",
      "PRmax              162414.0  5.755863e-07  5.493055e-07  2.187762e-08   \n",
      "PRmin              162414.0  4.740527e-07  4.969263e-07  1.000000e-12   \n",
      "PTAvg              162414.0  3.255394e-02  2.965556e-02  3.162278e-09   \n",
      "PTmax              162414.0  3.296584e-02  3.000845e-02  3.162278e-09   \n",
      "PTmin              162414.0  3.232248e-02  2.943358e-02  3.162278e-09   \n",
      "PathLength         162414.0  1.631338e+00  1.185776e+00  1.404499e-01   \n",
      "RSL_AVG            162414.0 -3.419798e+01  3.610038e+00 -8.090000e+01   \n",
      "RSL_MAX            162414.0 -3.374955e+01  3.526624e+00 -4.660000e+01   \n",
      "RSL_MIN            162414.0 -3.490782e+01  4.201910e+00 -9.000000e+01   \n",
      "SLAttn             162414.0 -3.649818e+01  2.510877e+01 -8.730000e+01   \n",
      "TSL_AVG            162414.0  2.300200e+00  2.645620e+01 -5.500000e+01   \n",
      "TSL_MAX            162414.0  2.348211e+00  2.647720e+01 -5.500000e+01   \n",
      "TSL_MIN            162414.0  2.271091e+00  2.645244e+01 -5.500000e+01   \n",
      "XEnd               162414.0  7.459514e+00  1.088893e+00  6.826944e+00   \n",
      "XStart             162414.0  7.459514e+00  1.088893e+00  6.826944e+00   \n",
      "YEnd               162414.0  7.992154e+01  6.485835e-02  7.982583e+01   \n",
      "YStart             162414.0  7.992154e+01  6.485835e-02  7.982583e+01   \n",
      "distance           162414.0  2.879489e+00  1.254883e+00  4.417269e-01   \n",
      "Baseline           162414.0 -3.337531e+01  3.488837e+00 -4.420000e+01   \n",
      "precipitation(mm)  162414.0  4.307387e-02  3.667362e-01  0.000000e+00   \n",
      "Baseline_ATTN      162414.0  1.532503e+00  2.259627e+00  1.000000e-01   \n",
      "\n",
      "                            25%           50%           75%          max  \n",
      "ID                 7.950000e+02  1.224500e+03  2.020000e+03  2442.000000  \n",
      "FrequencyBand      2.300000e+01  2.300000e+01  2.600000e+01    26.000000  \n",
      "PAttAvg            6.308985e-03  2.511820e-02  6.165892e-02     0.091201  \n",
      "PRAvg              2.398833e-07  4.466836e-07  6.456542e-07     0.000004  \n",
      "PRmax              2.630268e-07  4.897788e-07  7.079458e-07     0.000006  \n",
      "PRmin              2.041738e-07  3.715352e-07  5.888437e-07     0.000004  \n",
      "PTAvg              6.309573e-03  2.511886e-02  6.165950e-02     0.091201  \n",
      "PTmax              6.456542e-03  2.511886e-02  6.309573e-02     0.131826  \n",
      "PTmin              6.309573e-03  2.511886e-02  6.165950e-02     0.091201  \n",
      "PathLength         6.154478e-01  1.430065e+00  2.211201e+00     5.710568  \n",
      "RSL_AVG           -3.620000e+01 -3.350000e+01 -3.190000e+01   -23.600000  \n",
      "RSL_MAX           -3.580000e+01 -3.310000e+01 -3.150000e+01   -22.500000  \n",
      "RSL_MIN           -3.690000e+01 -3.430000e+01 -3.230000e+01   -23.700000  \n",
      "SLAttn            -5.120000e+01 -4.730000e+01 -3.900000e+01    24.500000  \n",
      "TSL_AVG            8.000000e+00  1.400000e+01  1.790000e+01    19.600000  \n",
      "TSL_MAX            8.100000e+00  1.400000e+01  1.800000e+01    21.200000  \n",
      "TSL_MIN            8.000000e+00  1.400000e+01  1.790000e+01    19.600000  \n",
      "XEnd               6.911667e+00  6.938333e+00  6.973560e+00     9.711010  \n",
      "XStart             6.911667e+00  6.938333e+00  6.973560e+00     9.711010  \n",
      "YEnd               7.986833e+01  7.989380e+01  7.996472e+01    80.047500  \n",
      "YStart             7.986833e+01  7.989380e+01  7.996472e+01    80.047500  \n",
      "distance           1.979271e+00  2.795431e+00  3.935921e+00     4.917839  \n",
      "Baseline          -3.540000e+01 -3.270000e+01 -3.120000e+01   -22.500000  \n",
      "precipitation(mm)  0.000000e+00  0.000000e+00  0.000000e+00     5.900000  \n",
      "Baseline_ATTN      6.000000e-01  9.000000e-01  1.700000e+00    63.300000  \n"
     ]
    }
   ],
   "source": [
    "print(specific_data_frame.describe().transpose())"
   ]
  },
  {
   "cell_type": "code",
   "execution_count": 8,
   "metadata": {},
   "outputs": [],
   "source": [
    "selected_feature_frame = specific_data_frame[[\"FrequencyBand\",\"Baseline_ATTN\",\"class\",\"PathLength\"]]"
   ]
  },
  {
   "cell_type": "code",
   "execution_count": 9,
   "metadata": {},
   "outputs": [],
   "source": [
    "X = selected_feature_frame.drop('class',axis = 1)"
   ]
  },
  {
   "cell_type": "code",
   "execution_count": 10,
   "metadata": {},
   "outputs": [],
   "source": [
    "y = selected_feature_frame['class']"
   ]
  },
  {
   "cell_type": "code",
   "execution_count": 11,
   "metadata": {},
   "outputs": [],
   "source": [
    "from sklearn.preprocessing import StandardScaler"
   ]
  },
  {
   "cell_type": "code",
   "execution_count": 12,
   "metadata": {},
   "outputs": [],
   "source": [
    "scaler = StandardScaler()"
   ]
  },
  {
   "cell_type": "code",
   "execution_count": 13,
   "metadata": {},
   "outputs": [
    {
     "name": "stdout",
     "output_type": "stream",
     "text": [
      "Fitting data..\n",
      "Data fitting finished.\n"
     ]
    }
   ],
   "source": [
    "# Fit only to the training data\n",
    "print(\"Fitting data..\")\n",
    "# scaler.fit(X_train)\n",
    "scaler.fit(X)\n",
    "print(\"Data fitting finished.\")"
   ]
  },
  {
   "cell_type": "code",
   "execution_count": 14,
   "metadata": {},
   "outputs": [
    {
     "data": {
      "text/plain": [
       "StandardScaler(copy=True, with_mean=True, with_std=True)"
      ]
     },
     "execution_count": 14,
     "metadata": {},
     "output_type": "execute_result"
    }
   ],
   "source": [
    "StandardScaler(copy=True, with_mean=True, with_std=True)"
   ]
  },
  {
   "cell_type": "code",
   "execution_count": 15,
   "metadata": {},
   "outputs": [],
   "source": [
    "X = scaler.transform(X)"
   ]
  },
  {
   "cell_type": "markdown",
   "metadata": {},
   "source": [
    "** Loading The Model **"
   ]
  },
  {
   "cell_type": "code",
   "execution_count": 17,
   "metadata": {},
   "outputs": [
    {
     "name": "stdout",
     "output_type": "stream",
     "text": [
      "Loading model from /home/cmlare/Data/Models/mlp_ANN_with_l100.sav\n"
     ]
    }
   ],
   "source": [
    "import pickle\n",
    "filename = \"/home/cmlare/Data/Models/\"+'mlp_ANN_with_l100.sav'\n",
    "print(\"Loading model from \"+ filename)\n",
    "mlp = pickle.load(open(filename, 'rb'))"
   ]
  },
  {
   "cell_type": "markdown",
   "metadata": {},
   "source": [
    "** Running Predictions ** "
   ]
  },
  {
   "cell_type": "code",
   "execution_count": 18,
   "metadata": {},
   "outputs": [
    {
     "name": "stdout",
     "output_type": "stream",
     "text": [
      "Running Predictions on train data..\n",
      "Running predictions finished.\n"
     ]
    }
   ],
   "source": [
    "print(\"Running Predictions on train data..\")\n",
    "# predictions = mlp.predict(X_test)\n",
    "predictions = mlp.predict(X)\n",
    "print(\"Running predictions finished.\")"
   ]
  },
  {
   "cell_type": "markdown",
   "metadata": {},
   "source": [
    "** Evaluation **"
   ]
  },
  {
   "cell_type": "code",
   "execution_count": 19,
   "metadata": {},
   "outputs": [],
   "source": [
    "from sklearn.metrics import classification_report,confusion_matrix"
   ]
  },
  {
   "cell_type": "code",
   "execution_count": 20,
   "metadata": {},
   "outputs": [
    {
     "name": "stdout",
     "output_type": "stream",
     "text": [
      "[[153541   1927     15    185      0     53     15    366]\n",
      " [  3243    323      7    104      6     37      6     82]\n",
      " [   389     80      4     11      4     73      4     27]\n",
      " [   890     62      1     65      1     60      0     53]\n",
      " [   295     31      0     43      2     21      0    128]\n",
      " [   114     11      0      7      4     30      1     93]\n",
      " [     0      0      0      0      0      0      0      0]\n",
      " [     0      0      0      0      0      0      0      0]]\n"
     ]
    }
   ],
   "source": [
    "print(confusion_matrix(y,predictions))"
   ]
  },
  {
   "cell_type": "code",
   "execution_count": 21,
   "metadata": {},
   "outputs": [
    {
     "name": "stdout",
     "output_type": "stream",
     "text": [
      "             precision    recall  f1-score   support\n",
      "\n",
      "          A       0.97      0.98      0.98    156102\n",
      "          B       0.13      0.08      0.10      3808\n",
      "          C       0.15      0.01      0.01       592\n",
      "          D       0.16      0.06      0.08      1132\n",
      "          E       0.12      0.00      0.01       520\n",
      "          F       0.11      0.12      0.11       260\n",
      "          G       0.00      0.00      0.00         0\n",
      "          H       0.00      0.00      0.00         0\n",
      "\n",
      "avg / total       0.94      0.95      0.94    162414\n",
      "\n"
     ]
    },
    {
     "name": "stderr",
     "output_type": "stream",
     "text": [
      "/home/cmlare/.local/lib/python3.6/site-packages/sklearn/metrics/classification.py:1137: UndefinedMetricWarning: Recall and F-score are ill-defined and being set to 0.0 in labels with no true samples.\n",
      "  'recall', 'true', average, warn_for)\n"
     ]
    }
   ],
   "source": [
    "print(classification_report(y,predictions))"
   ]
  },
  {
   "cell_type": "code",
   "execution_count": null,
   "metadata": {},
   "outputs": [],
   "source": []
  }
 ],
 "metadata": {
  "kernelspec": {
   "display_name": "Python 3",
   "language": "python",
   "name": "python3"
  },
  "language_info": {
   "codemirror_mode": {
    "name": "ipython",
    "version": 3
   },
   "file_extension": ".py",
   "mimetype": "text/x-python",
   "name": "python",
   "nbconvert_exporter": "python",
   "pygments_lexer": "ipython3",
   "version": "3.6.5"
  }
 },
 "nbformat": 4,
 "nbformat_minor": 2
}
