{
 "cells": [
  {
   "cell_type": "code",
   "execution_count": null,
   "metadata": {},
   "outputs": [],
   "source": [
    "import pandas as pd\n",
    "from matplotlib import pyplot as plot\n",
    "import seaborn as sb"
   ]
  },
  {
   "cell_type": "code",
   "execution_count": null,
   "metadata": {},
   "outputs": [],
   "source": [
    "data_root = \"/home/cmlare/Data/RF Data/Processed/\""
   ]
  },
  {
   "cell_type": "code",
   "execution_count": null,
   "metadata": {},
   "outputs": [],
   "source": [
    "# rainfall_mapped_df_1 = pd.read_csv(data_root+\"2018-05-08 to 2018-05-15_integrated.csv\")\n",
    "print(\"Loading Data..\")"
   ]
  },
  {
   "cell_type": "code",
   "execution_count": null,
   "metadata": {},
   "outputs": [],
   "source": [
    "rainfall_classified_1 = pd.read_csv(data_root+\"2018-05-08 to 2018-05-15_integrated_classified.csv\")"
   ]
  },
  {
   "cell_type": "code",
   "execution_count": null,
   "metadata": {},
   "outputs": [],
   "source": [
    "# rainfall_classified_1"
   ]
  },
  {
   "cell_type": "code",
   "execution_count": null,
   "metadata": {},
   "outputs": [],
   "source": [
    "rainfall_classified_2 = pd.read_csv(data_root+\"2018-05-16 to 2018-05-23_integrated_classified.csv\")"
   ]
  },
  {
   "cell_type": "code",
   "execution_count": null,
   "metadata": {},
   "outputs": [],
   "source": [
    "rainfall_classified_3 = pd.read_csv(data_root+\"2018-05-24 to 2018-05-31_integrated_classified.csv\")"
   ]
  },
  {
   "cell_type": "code",
   "execution_count": null,
   "metadata": {},
   "outputs": [],
   "source": [
    "rainfall_classified_4 = pd.read_csv(data_root+\"2018-06-01 to 2018-06-10_integrated_classified.csv\")"
   ]
  },
  {
   "cell_type": "code",
   "execution_count": null,
   "metadata": {},
   "outputs": [],
   "source": [
    "rainfall_classified = pd.concat([rainfall_classified_1, rainfall_classified_2, rainfall_classified_3,rainfall_classified_3,rainfall_classified_4])"
   ]
  },
  {
   "cell_type": "code",
   "execution_count": null,
   "metadata": {},
   "outputs": [],
   "source": [
    "# rainfall_classified = rainfall_classified.loc[lambda x: x[\"distance\"] < 5]"
   ]
  },
  {
   "cell_type": "markdown",
   "metadata": {},
   "source": [
    "** Resampling the Non Zero Attenuation **"
   ]
  },
  {
   "cell_type": "code",
   "execution_count": null,
   "metadata": {},
   "outputs": [],
   "source": [
    "non_rainy = rainfall_classified.loc[rainfall_classified[\"precipitation(mm)\"]!=0]\n",
    "#Oversampled 7 times\n",
    "rainfall_classified = pd.concat([rainfall_classified,non_rainy,non_rainy,non_rainy, non_rainy,non_rainy, non_rainy,non_rainy])\n"
   ]
  },
  {
   "cell_type": "code",
   "execution_count": null,
   "metadata": {},
   "outputs": [],
   "source": [
    "specific_data_frame = rainfall_classified\n",
    "print(\"Loading of data finished.\")"
   ]
  },
  {
   "cell_type": "markdown",
   "metadata": {},
   "source": [
    "**Uncomment line below for testing.**"
   ]
  },
  {
   "cell_type": "code",
   "execution_count": null,
   "metadata": {},
   "outputs": [],
   "source": [
    "# specific_data_frame = rainfall_classified.loc[rainfall_classified.ID==1454]\n",
    "# specific_data_frame.date_time"
   ]
  },
  {
   "cell_type": "code",
   "execution_count": null,
   "metadata": {},
   "outputs": [],
   "source": [
    "specific_data_frame[\"Baseline_ATTN\"] = specific_data_frame[\"Baseline\"].sub(specific_data_frame[\"RSL_MIN\"])"
   ]
  },
  {
   "cell_type": "code",
   "execution_count": null,
   "metadata": {},
   "outputs": [],
   "source": [
    "# specific_data_frame[\"Baseline_ATTN\"].plot(x=specific_data_frame[\"date_time\"], y=specific_data_frame.Baseline_ATTN)\n",
    "\n",
    "# specific_data_frame[\"precipitation(mm)\"].plot(x=specific_data_frame[\"date_time\"], y=specific_data_frame[\"precipitation(mm)\"])"
   ]
  },
  {
   "cell_type": "code",
   "execution_count": 45,
   "metadata": {},
   "outputs": [
    {
     "name": "stdout",
     "output_type": "stream",
     "text": [
      "                      count          mean           std           min  \\\n",
      "ID                 209230.0  1.454000e+03  0.000000e+00  1.454000e+03   \n",
      "FrequencyBand      209230.0  1.800000e+01  0.000000e+00  1.800000e+01   \n",
      "PAttAvg            209230.0  6.257730e-02  6.896635e-04  6.165892e-02   \n",
      "PRAvg              209230.0  4.437964e-07  1.400612e-07  1.148154e-09   \n",
      "PRmax              209230.0  5.400301e-07  1.058716e-07  6.025596e-09   \n",
      "PRmin              209230.0  3.147037e-07  1.990412e-07  1.000000e-11   \n",
      "PTAvg              209230.0  6.257775e-02  6.896681e-04  6.165950e-02   \n",
      "PTmax              209230.0  6.309573e-02  4.163346e-17  6.309573e-02   \n",
      "PTmin              209230.0  6.165950e-02  6.938910e-18  6.165950e-02   \n",
      "PathLength         209230.0  3.751771e+00  8.881805e-16  3.751771e+00   \n",
      "RSL_AVG            209230.0 -3.405934e+01  2.978887e+00 -5.940000e+01   \n",
      "RSL_MAX            209230.0 -3.287311e+01  1.757601e+00 -5.220000e+01   \n",
      "RSL_MIN            209230.0 -3.829852e+01  8.604208e+00 -8.000000e+01   \n",
      "SLAttn             209230.0 -5.202328e+01  2.980944e+00 -7.740000e+01   \n",
      "TSL_AVG            209230.0  1.796393e+01  4.801919e-02  1.790000e+01   \n",
      "TSL_MAX            209230.0  1.800000e+01  0.000000e+00  1.800000e+01   \n",
      "TSL_MIN            209230.0  1.790000e+01  3.552722e-15  1.790000e+01   \n",
      "XEnd               209230.0  6.894167e+00  0.000000e+00  6.894167e+00   \n",
      "XStart             209230.0  6.877778e+00  5.329083e-15  6.877778e+00   \n",
      "YEnd               209230.0  7.996000e+01  4.263267e-14  7.996000e+01   \n",
      "YStart             209230.0  7.998972e+01  2.842178e-14  7.998972e+01   \n",
      "distance           209230.0  2.913181e+00  8.881805e-16  2.913181e+00   \n",
      "Baseline           209230.0 -3.185066e+01  1.621819e-01 -3.210000e+01   \n",
      "precipitation(mm)  209230.0  1.311311e+00  2.178902e+00  1.000000e-01   \n",
      "Baseline_ATTN      209230.0  6.447869e+00  8.607692e+00  4.000000e-01   \n",
      "\n",
      "                            25%           50%           75%           max  \n",
      "ID                 1.454000e+03  1.454000e+03  1.454000e+03  1.454000e+03  \n",
      "FrequencyBand      1.800000e+01  1.800000e+01  1.800000e+01  1.800000e+01  \n",
      "PAttAvg            6.165907e-02  6.309517e-02  6.309528e-02  6.309573e-02  \n",
      "PRAvg              3.801894e-07  4.897788e-07  5.495409e-07  6.165950e-07  \n",
      "PRmax              5.128614e-07  5.754399e-07  6.025596e-07  7.079458e-07  \n",
      "PRmin              1.023293e-07  3.981072e-07  4.897788e-07  5.754399e-07  \n",
      "PTAvg              6.165950e-02  6.309573e-02  6.309573e-02  6.309573e-02  \n",
      "PTmax              6.309573e-02  6.309573e-02  6.309573e-02  6.309573e-02  \n",
      "PTmin              6.165950e-02  6.165950e-02  6.165950e-02  6.165950e-02  \n",
      "PathLength         3.751771e+00  3.751771e+00  3.751771e+00  3.751771e+00  \n",
      "RSL_AVG           -3.420000e+01 -3.310000e+01 -3.260000e+01 -3.210000e+01  \n",
      "RSL_MAX           -3.290000e+01 -3.240000e+01 -3.220000e+01 -3.150000e+01  \n",
      "RSL_MIN           -3.990000e+01 -3.400000e+01 -3.310000e+01 -3.240000e+01  \n",
      "SLAttn            -5.210000e+01 -5.100000e+01 -5.060000e+01 -5.010000e+01  \n",
      "TSL_AVG            1.790000e+01  1.800000e+01  1.800000e+01  1.800000e+01  \n",
      "TSL_MAX            1.800000e+01  1.800000e+01  1.800000e+01  1.800000e+01  \n",
      "TSL_MIN            1.790000e+01  1.790000e+01  1.790000e+01  1.790000e+01  \n",
      "XEnd               6.894167e+00  6.894167e+00  6.894167e+00  6.894167e+00  \n",
      "XStart             6.877778e+00  6.877778e+00  6.877778e+00  6.877778e+00  \n",
      "YEnd               7.996000e+01  7.996000e+01  7.996000e+01  7.996000e+01  \n",
      "YStart             7.998972e+01  7.998972e+01  7.998972e+01  7.998972e+01  \n",
      "distance           2.913181e+00  2.913181e+00  2.913181e+00  2.913181e+00  \n",
      "Baseline          -3.200000e+01 -3.190000e+01 -3.180000e+01 -3.110000e+01  \n",
      "precipitation(mm)  2.000000e-01  4.000000e-01  1.400000e+00  1.590000e+01  \n",
      "Baseline_ATTN      1.200000e+00  2.200000e+00  7.900000e+00  4.810000e+01  \n"
     ]
    }
   ],
   "source": [
    "print(specific_data_frame.describe().transpose())"
   ]
  },
  {
   "cell_type": "code",
   "execution_count": 46,
   "metadata": {},
   "outputs": [],
   "source": [
    "#specific_data_frame.columns"
   ]
  },
  {
   "cell_type": "code",
   "execution_count": null,
   "metadata": {},
   "outputs": [],
   "source": [
    "selected_feature_frame = specific_data_frame[[\"FrequencyBand\",\"Baseline_ATTN\",\"class\",\"PathLength\"]]"
   ]
  },
  {
   "cell_type": "code",
   "execution_count": null,
   "metadata": {},
   "outputs": [],
   "source": [
    "#selected_feature_frame.shape"
   ]
  },
  {
   "cell_type": "code",
   "execution_count": null,
   "metadata": {},
   "outputs": [],
   "source": [
    "X = selected_feature_frame.drop('class',axis = 1)"
   ]
  },
  {
   "cell_type": "code",
   "execution_count": null,
   "metadata": {},
   "outputs": [],
   "source": [
    "y = selected_feature_frame['class']"
   ]
  },
  {
   "cell_type": "code",
   "execution_count": null,
   "metadata": {},
   "outputs": [],
   "source": [
    "from sklearn.model_selection import train_test_split"
   ]
  },
  {
   "cell_type": "code",
   "execution_count": null,
   "metadata": {},
   "outputs": [],
   "source": [
    "# X_train, X_test, y_train, y_test = train_test_split(X,y )"
   ]
  },
  {
   "cell_type": "markdown",
   "metadata": {},
   "source": [
    "**Data Preprocessing**"
   ]
  },
  {
   "cell_type": "code",
   "execution_count": null,
   "metadata": {},
   "outputs": [],
   "source": [
    "from sklearn.preprocessing import StandardScaler"
   ]
  },
  {
   "cell_type": "code",
   "execution_count": null,
   "metadata": {},
   "outputs": [],
   "source": [
    "scaler = StandardScaler()"
   ]
  },
  {
   "cell_type": "code",
   "execution_count": null,
   "metadata": {},
   "outputs": [],
   "source": [
    "# Fit only to the training data\n",
    "print(\"Fitting data..\")\n",
    "# scaler.fit(X_train)\n",
    "scaler.fit(X)\n",
    "print(\"Data fitting finished.\")"
   ]
  },
  {
   "cell_type": "code",
   "execution_count": null,
   "metadata": {},
   "outputs": [],
   "source": [
    "StandardScaler(copy=True, with_mean=True, with_std=True)"
   ]
  },
  {
   "cell_type": "code",
   "execution_count": null,
   "metadata": {},
   "outputs": [],
   "source": [
    "# Now apply the transformations to the data:\n",
    "# X_train = scaler.transform(X_train)\n",
    "# X_test = scaler.transform(X_test)\n",
    "X = scaler.transform(X)"
   ]
  },
  {
   "cell_type": "markdown",
   "metadata": {},
   "source": [
    "Training The Model"
   ]
  },
  {
   "cell_type": "code",
   "execution_count": null,
   "metadata": {},
   "outputs": [],
   "source": [
    "from sklearn.neural_network import MLPClassifier"
   ]
  },
  {
   "cell_type": "code",
   "execution_count": null,
   "metadata": {},
   "outputs": [],
   "source": [
    "mlp = MLPClassifier(hidden_layer_sizes=(100,100,100),max_iter=500)"
   ]
  },
  {
   "cell_type": "code",
   "execution_count": null,
   "metadata": {},
   "outputs": [],
   "source": [
    "print(\"Training the model..\")\n",
    "# mlp.fit(X_train,y_train)\n",
    "mlp.fit(X,y)\n",
    "print(\"Model training finished.\")"
   ]
  },
  {
   "cell_type": "markdown",
   "metadata": {},
   "source": [
    "**Predictions and Evaluation**"
   ]
  },
  {
   "cell_type": "code",
   "execution_count": null,
   "metadata": {},
   "outputs": [],
   "source": [
    "print(\"Running Predictions on train data..\")\n",
    "# predictions = mlp.predict(X_test)\n",
    "predictions = mlp.predict(X)\n",
    "print(\"Running predictions finished.\")"
   ]
  },
  {
   "cell_type": "code",
   "execution_count": null,
   "metadata": {},
   "outputs": [],
   "source": [
    "from sklearn.metrics import classification_report,confusion_matrix"
   ]
  },
  {
   "cell_type": "markdown",
   "metadata": {},
   "source": [
    "Evaluation"
   ]
  },
  {
   "cell_type": "code",
   "execution_count": 62,
   "metadata": {},
   "outputs": [
    {
     "name": "stdout",
     "output_type": "stream",
     "text": [
      "[[111132      0   4802   1029    343      0      0]\n",
      " [ 29155   1029   1372      0      0      0      0]\n",
      " [ 18865      0   8575      0      0      0      0]\n",
      " [ 13377    343   2401   2058    686      0      0]\n",
      " [  3773    686   1715    343   1372      0      0]\n",
      " [  1715      0   1029      0      0    343      0]\n",
      " [  1372    686   1029      0      0      0      0]]\n"
     ]
    }
   ],
   "source": [
    "# print(confusion_matrix(y_test,predictions))\n",
    "print(confusion_matrix(y,predictions))"
   ]
  },
  {
   "cell_type": "code",
   "execution_count": 63,
   "metadata": {},
   "outputs": [
    {
     "name": "stdout",
     "output_type": "stream",
     "text": [
      "             precision    recall  f1-score   support\n",
      "\n",
      "          B       0.62      0.95      0.75    117306\n",
      "          C       0.38      0.03      0.06     31556\n",
      "          D       0.41      0.31      0.35     27440\n",
      "          E       0.60      0.11      0.18     18865\n",
      "          F       0.57      0.17      0.27      7889\n",
      "          G       1.00      0.11      0.20      3087\n",
      "          H       0.00      0.00      0.00      3087\n",
      "\n",
      "avg / total       0.55      0.60      0.51    209230\n",
      "\n"
     ]
    },
    {
     "name": "stderr",
     "output_type": "stream",
     "text": [
      "/home/cmlare/.local/lib/python3.6/site-packages/sklearn/metrics/classification.py:1135: UndefinedMetricWarning: Precision and F-score are ill-defined and being set to 0.0 in labels with no predicted samples.\n",
      "  'precision', 'predicted', average, warn_for)\n"
     ]
    }
   ],
   "source": [
    "# print(classification_report(y_test,predictions))\n",
    "print(classification_report(y,predictions))"
   ]
  },
  {
   "cell_type": "markdown",
   "metadata": {},
   "source": [
    "**Saving the Model**"
   ]
  },
  {
   "cell_type": "code",
   "execution_count": 65,
   "metadata": {},
   "outputs": [],
   "source": [
    "import pickle"
   ]
  },
  {
   "cell_type": "code",
   "execution_count": 66,
   "metadata": {},
   "outputs": [
    {
     "name": "stdout",
     "output_type": "stream",
     "text": [
      "Saving model to /home/cmlare/Data/Models/mlp_ANN_rainy_only_h-13_o-7.sav\n",
      "Model Saved!\n"
     ]
    }
   ],
   "source": [
    "filename = \"/home/cmlare/Data/Models/\"+'mlp_ANN_rainy_only_h-13_o-7.sav'\n",
    "print(\"Saving model to \"+ filename)\n",
    "pickle.dump(mlp, open(filename, 'wb'))\n",
    "print(\"Model Saved!\")"
   ]
  },
  {
   "cell_type": "code",
   "execution_count": null,
   "metadata": {},
   "outputs": [],
   "source": []
  }
 ],
 "metadata": {
  "kernelspec": {
   "display_name": "Python 3",
   "language": "python",
   "name": "python3"
  },
  "language_info": {
   "codemirror_mode": {
    "name": "ipython",
    "version": 3
   },
   "file_extension": ".py",
   "mimetype": "text/x-python",
   "name": "python",
   "nbconvert_exporter": "python",
   "pygments_lexer": "ipython3",
   "version": "3.6.5"
  }
 },
 "nbformat": 4,
 "nbformat_minor": 2
}
